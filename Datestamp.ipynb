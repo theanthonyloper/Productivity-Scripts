{
 "cells": [
  {
   "cell_type": "code",
   "execution_count": null,
   "metadata": {},
   "outputs": [],
   "source": [
    "import datetime as dt\n",
    "import win32clipboard\n",
    "\n",
    "abc = dt.date.today().ctime()  # Day of week to trim\n",
    "now = dt.datetime.now() # current date and time\n",
    "date_time = now.strftime(\"%m/%d/%Y, %H:%M\")\n",
    "\n",
    "ideal_t = abc[0:3] + ' ' + date_time\n",
    "\n",
    "win32clipboard.OpenClipboard()\n",
    "\n",
    "win32clipboard.EmptyClipboard()\n",
    "win32clipboard.SetClipboardText(ideal_t)\n",
    "win32clipboard.CloseClipboard()"
   ]
  }
 ],
 "metadata": {
  "kernelspec": {
   "display_name": "Python 3",
   "language": "python",
   "name": "python3"
  },
  "language_info": {
   "codemirror_mode": {
    "name": "ipython",
    "version": 3
   },
   "file_extension": ".py",
   "mimetype": "text/x-python",
   "name": "python",
   "nbconvert_exporter": "python",
   "pygments_lexer": "ipython3",
   "version": "3.8.3"
  }
 },
 "nbformat": 4,
 "nbformat_minor": 4
}
