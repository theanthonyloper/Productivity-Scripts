'''This is a script which make it super fast to build out a ...
SMART goal in a short time frame.  Simple prompts and combos...
of print statements make for quick pursuit of goals with a
handy docx copy output.'''

from docx import Document


def print_out(q, s, s1, s2, m1, m2, a, a1, a2, a3, r, r1, t, t1):
    if a == 'true' and a1 == 'true' and a2 == 'true' and a3 == 'true':
        achvd = "- This goal is possible and won't defeat me because I have the neccessary knowledge, skills, abilities, and resources to accomplish the goal"
    else:
        achvd = "- It's good to be honest with yourself and revise when needed"
        
    if t1 == 'true':
        urgnt = "- The completion date really does create a practical sense of urgency!"
    else:
        urgnt = "- Are you sure this timeframe will keep you focused?"

    full_printout = f"""\n\n\nMy SMART goal: {q}

Specific

- This goal will: {s}
- Motivation: {s1}
- by: {s2}

Measurable

- By checking: {m1} & {m2}

Achievable

{achvd}

Results-focused

- Reason/purpose/benefit: {r}
- What do you get: {r1}

Time-bound

- I'll finish by: {t}
{urgnt}
"""
    print(full_printout)
    return(full_printout, achvd[2:], urgnt[2:])

def docx_maker(q, s, s1, s2, m1, m2, a, a1, a2, a3, r, r1, t, t1, achvd, urgnt):
    document = Document()

    document.add_heading(f'My S.M.A.R.T Goal: \n{q}', 0)

    document.add_heading('Specific', level=1)
    document.add_paragraph(
        f'This goal will: {s}', style='List Bullet')
    document.add_paragraph(
        f'Motivation: {s1}', style='List Bullet')
    document.add_paragraph(
        f'By: {s2}', style='List Bullet')

    document.add_heading('Measurable', level=1)
    document.add_paragraph(
        f'By checking: {m1} & {m2}', style='List Bullet')

    document.add_heading('Achievable', level=1)
    document.add_paragraph(achvd, style='List Bullet')

    document.add_heading('Results-focused', level=1)
    document.add_paragraph(
        f'Reason/purpose/benefit: {r}', style='List Bullet')
    document.add_paragraph(
        f'What do you get: {r1}', style='List Bullet')

    document.add_heading('Time-bound', level=1)
    document.add_paragraph(
        f"I'll finish by: {t}", style='List Bullet')
    document.add_paragraph(urgnt, style='List Bullet')

    document.save('SmartDemo.docx')

def main():
    q = input('What is your goal? ')
    print("Okay, let's break it down.\n")

    #S
    print('Specific')
    s = input('What will the goal accomplish? It will... ')
    s1 = input('Why accomplish this? ')
    s2 = input('How will you do it?')

    #M
    print('\nMeasurable')
    print("How will you measure whether or not the goal has been reached? I'll measure...\n")
    m1 = input('Metric 1: ')
    m2 = input('Metric 2: ')

    #A
    print('\nAchievable\n')

    print('Answer the following questions answering either "true" or "false"')
    a = input('Is it possible? ')
    a1 = input('Have others done it successfully? ')
    a2 = input('Do you have the necessary knowledge, skills, abilities, and resources to accomplish the goal? ')
    a3 = input('Will meeting the goal challenge you without defeating you? ')

    #R   
    print('\nResults-focused')
    r = input('What is the reason, purpose, or benefit of accomplishing the goal? ')
    r1 = input('What will you get from accomplishing this goal? ')

    #T
    print('\nTime-bound\n')

    t = input('What is the established completion date? ')
    print('\nAnswer the following question answering either "true" or "false"')
    t1 = input('Does that completion date create a practical sense of urgency? ')

    full_printout, achvd, urgnt = print_out(q, s, s1, s2, m1, m2, a, a1, a2, a3, r, r1, t, t1)
    docx_maker(q, s, s1, s2, m1, m2, a, a1, a2, a3, r, r1, t, t1, achvd, urgnt)
    return full_printout, q, s, s1, s2, m1, m2, a, a1, a2, a3, r, r1, t, t1, achvd, urgnt

full_printout, q, s, s1, s2, m1, m2, a, a1, a2, a3, r, r1, t, t1, achvd, urgnt = main()
